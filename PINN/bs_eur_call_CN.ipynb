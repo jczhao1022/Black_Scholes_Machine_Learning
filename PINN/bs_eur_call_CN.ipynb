{
 "cells": [
  {
   "cell_type": "code",
   "execution_count": null,
   "id": "c6797e87",
   "metadata": {},
   "outputs": [],
   "source": [
    "import numpy as np\n",
    "def [u, U] = bs_eur_call_Crank_Nicholson(M,N,sigma,r,K,X,T):\n",
    "    dx = X / M;  #  Space steps\n",
    "    dt = T / N;      #  Time steps\n",
    "    #x = (1:M)'*dx;\n",
    "    x = np.linspace(1, M, M) * dx\n",
    "    "
   ]
  },
  {
   "cell_type": "code",
   "execution_count": null,
   "id": "aa1e1e9c",
   "metadata": {},
   "outputs": [],
   "source": [
    "import numpy as np\n",
    "def [u, U] = bs_eur_call_Crank_Nicholson(M,N,sigma,r,K,X,T):\n",
    "    dx = X / M;  #  Space steps\n",
    "    dt = T / N;      #  Time steps\n",
    "    #x = (1:M)'*dx;\n",
    "    x = np.linspace(1, M, M) * dx\n",
    "    \n",
    "    a = -(sigma^2 * np.linspace(1, M, M).^2 - r * np.linspacelinspace(1, M, M)) / 2;\n",
    "    b = sigma^2 * np.linspace(1, M, M).^2 + r;\n",
    "    c = -(sigma^2 * np.linspace(1, M, M).^2 + r * np.linspace(1, M, M)) / 2;\n",
    "    a[-1] = a[-1] + c[-1];\n",
    "    \n",
    "    a = a/2;\n",
    "    c = c/2;\n",
    "    b1 = 1/dt + b/2;\n",
    "    b2 = 1/dt - b/2;\n",
    "    \n",
    "    #a1 = [a[(2:M)];  0];\n",
    "    a1 = np.hstack((a[1:-1], np.zeros(1)))\n",
    "    c1 = [0;  c(1:M-1)];\n",
    "    C = spdiags([a1  b1  c1],-1:1,M,M);\n",
    "    B = spdiags([-a1  b2  -c1],-1:1,M,M);\n",
    "    \n",
    "    U = zeros(M,N);\n",
    "    g = max(x-K,0); \n",
    "    u = g;\n",
    "    f = zeros(M,1);\n",
    "    f(M) = -2*dx*c(M);\n",
    "    for j = N:-1:1    \n",
    "        rhs = B*u + f;\n",
    "        u = C \\ rhs;\n",
    "        U(: , j) = u;\n",
    "    end"
   ]
  }
 ],
 "metadata": {
  "kernelspec": {
   "display_name": "Python 3 (ipykernel)",
   "language": "python",
   "name": "python3"
  },
  "language_info": {
   "codemirror_mode": {
    "name": "ipython",
    "version": 3
   },
   "file_extension": ".py",
   "mimetype": "text/x-python",
   "name": "python",
   "nbconvert_exporter": "python",
   "pygments_lexer": "ipython3",
   "version": "3.9.5"
  }
 },
 "nbformat": 4,
 "nbformat_minor": 5
}
