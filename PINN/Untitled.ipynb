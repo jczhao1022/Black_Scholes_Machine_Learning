{
 "cells": [
  {
   "cell_type": "code",
   "execution_count": 101,
   "id": "298ea2e9",
   "metadata": {},
   "outputs": [],
   "source": [
    "import numpy as np"
   ]
  },
  {
   "cell_type": "code",
   "execution_count": 102,
   "id": "5935d2ac",
   "metadata": {},
   "outputs": [],
   "source": [
    "x = np.linspace(1, 50, 50)"
   ]
  },
  {
   "cell_type": "code",
   "execution_count": 103,
   "id": "cc6843e8",
   "metadata": {
    "scrolled": true
   },
   "outputs": [
    {
     "data": {
      "text/plain": [
       "array([ 1.,  2.,  3.,  4.,  5.,  6.,  7.,  8.,  9., 10., 11., 12., 13.,\n",
       "       14., 15., 16., 17., 18., 19., 20., 21., 22., 23., 24., 25., 26.,\n",
       "       27., 28., 29., 30., 31., 32., 33., 34., 35., 36., 37., 38., 39.,\n",
       "       40., 41., 42., 43., 44., 45., 46., 47., 48., 49., 50.])"
      ]
     },
     "execution_count": 103,
     "metadata": {},
     "output_type": "execute_result"
    }
   ],
   "source": [
    "x"
   ]
  },
  {
   "cell_type": "code",
   "execution_count": 104,
   "id": "9f7be1f5",
   "metadata": {},
   "outputs": [],
   "source": [
    "sigma = 0.3          # volatility\n",
    "r = 0.25             # interest rate \n",
    "K = 10              # strike price\n",
    "X = 50               # asset value\n",
    "T = 1               # time\n",
    "M = 3\n",
    "N = 10"
   ]
  },
  {
   "cell_type": "code",
   "execution_count": 105,
   "id": "b9711346",
   "metadata": {},
   "outputs": [],
   "source": [
    "dx = X / M  #  Space steps\n",
    "dt = T / N      #  Time steps\n",
    "#x = (1:M)'*dx;\n",
    "x = np.linspace(1, M, M) * dx\n",
    " "
   ]
  },
  {
   "cell_type": "code",
   "execution_count": 106,
   "id": "ad5b07b8",
   "metadata": {},
   "outputs": [
    {
     "data": {
      "text/plain": [
       "array([ 6.66666667, 23.33333333, 40.        ])"
      ]
     },
     "execution_count": 106,
     "metadata": {},
     "output_type": "execute_result"
    }
   ],
   "source": [
    "x-K"
   ]
  },
  {
   "cell_type": "code",
   "execution_count": 107,
   "id": "679025bb",
   "metadata": {},
   "outputs": [],
   "source": [
    "a = -(sigma**2 * np.linspace(1, M, M)**2 - r * np.linspace(1, M, M)) / 2\n",
    "b = sigma**2 * np.linspace(1, M, M)**2 + r\n",
    "c = -(sigma**2 * np.linspace(1, M, M)**2 + r * np.linspace(1, M, M)) / 2\n",
    "a[-1] = a[-1] + c[-1]"
   ]
  },
  {
   "cell_type": "code",
   "execution_count": 108,
   "id": "85f6e486",
   "metadata": {},
   "outputs": [],
   "source": [
    "a = a/2;\n",
    "c = c/2;\n",
    "b1 = 1/dt + b/2;\n",
    "b2 = 1/dt - b/2;\n",
    "\n",
    "#a1 = [a[(2:M)];  0];\n",
    "a1 = np.hstack((a[1:-1], np.zeros(1)))\n",
    "#c1 = [np.zeros(1);  c(1:M-1)]\n",
    "c1 = np.hstack((np.zeros(1), c[0:-2]))"
   ]
  },
  {
   "cell_type": "code",
   "execution_count": 109,
   "id": "9d67375c",
   "metadata": {},
   "outputs": [
    {
     "data": {
      "text/plain": [
       "2"
      ]
     },
     "execution_count": 109,
     "metadata": {},
     "output_type": "execute_result"
    }
   ],
   "source": [
    "np.size(c1)"
   ]
  },
  {
   "cell_type": "code",
   "execution_count": 110,
   "id": "0a1daaf7",
   "metadata": {},
   "outputs": [],
   "source": [
    "\n",
    "#C = spdiags([a1  b1  c1],-1:1,M,M)\n",
    "C = np.diag(c1,1) + np.diag(a1,-1) + np.diag(b1)\n",
    "#B = spdiags([-a1  b2  -c1],-1:1,M,M)\n",
    "B = np.diag(-c1,1) + np.diag(-a1,-1) + np.diag(b1)\n",
    "\n",
    "U = np.zeros((N, M))\n",
    "g = np.maximum(x-K,np.zeros(M)) \n",
    "u = g.reshape(M,1)\n",
    "f = np.zeros((M,1))"
   ]
  },
  {
   "cell_type": "code",
   "execution_count": 111,
   "id": "56bfa40e",
   "metadata": {},
   "outputs": [
    {
     "data": {
      "text/plain": [
       "array([[ 67.8       ],\n",
       "       [243.61666667],\n",
       "       [421.2       ]])"
      ]
     },
     "execution_count": 111,
     "metadata": {},
     "output_type": "execute_result"
    }
   ],
   "source": [
    "B @ u + f"
   ]
  },
  {
   "cell_type": "code",
   "execution_count": 112,
   "id": "2e3ad935",
   "metadata": {},
   "outputs": [
    {
     "data": {
      "text/plain": [
       "array([0., 0., 0.])"
      ]
     },
     "execution_count": 112,
     "metadata": {},
     "output_type": "execute_result"
    }
   ],
   "source": [
    "U[4]"
   ]
  },
  {
   "cell_type": "code",
   "execution_count": 113,
   "id": "2425cdaa",
   "metadata": {},
   "outputs": [],
   "source": [
    "f[M-1] = -2*dx*c[M-1]\n",
    "#j = N:-1:1 \n",
    "for j in range(N-1,0,-1):   \n",
    "    rhs = B @ u + f\n",
    "    # u = C \\ rhs\n",
    "    u = np.linalg.solve(C, rhs)\n",
    "    U[j] = u.reshape(1,M)"
   ]
  },
  {
   "cell_type": "code",
   "execution_count": 114,
   "id": "5b061ca1",
   "metadata": {},
   "outputs": [
    {
     "data": {
      "text/plain": [
       "array([[ 0.        ,  0.        ,  0.        ],\n",
       "       [ 6.66666667, 29.68947113, 51.11111111],\n",
       "       [ 6.66666667, 28.90176769, 49.87654321],\n",
       "       [ 6.66666667, 28.13443073, 48.64197531],\n",
       "       [ 6.66666667, 27.38746024, 47.40740741],\n",
       "       [ 6.66666667, 26.66085623, 46.17283951],\n",
       "       [ 6.66666667, 25.9546187 , 44.9382716 ],\n",
       "       [ 6.66666667, 25.26874764, 43.7037037 ],\n",
       "       [ 6.66666667, 24.60324306, 42.4691358 ],\n",
       "       [ 6.66666667, 23.95810496, 41.2345679 ]])"
      ]
     },
     "execution_count": 114,
     "metadata": {},
     "output_type": "execute_result"
    }
   ],
   "source": [
    "U"
   ]
  }
 ],
 "metadata": {
  "kernelspec": {
   "display_name": "Python 3 (ipykernel)",
   "language": "python",
   "name": "python3"
  },
  "language_info": {
   "codemirror_mode": {
    "name": "ipython",
    "version": 3
   },
   "file_extension": ".py",
   "mimetype": "text/x-python",
   "name": "python",
   "nbconvert_exporter": "python",
   "pygments_lexer": "ipython3",
   "version": "3.9.5"
  }
 },
 "nbformat": 4,
 "nbformat_minor": 5
}
